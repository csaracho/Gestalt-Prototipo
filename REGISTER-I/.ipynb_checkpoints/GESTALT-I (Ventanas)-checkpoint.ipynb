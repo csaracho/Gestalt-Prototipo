{
 "cells": [
  {
   "cell_type": "raw",
   "metadata": {},
   "source": [
    "## REGISTER-I (ventanas)\n"
   ]
  },
  {
   "cell_type": "raw",
   "metadata": {},
   "source": [
    "FLUJO ALTERNATIVO PRINCIPAL +++++++++++++++++++++++++++++++++++++++++++++++++++++++++++++++"
   ]
  },
  {
   "cell_type": "raw",
   "metadata": {
    "collapsed": true
   },
   "source": [
    "3. Banners de publicidad y de ventajas"
   ]
  },
  {
   "cell_type": "raw",
   "metadata": {
    "collapsed": true
   },
   "source": [
    "4. y 6. nombre de usuario y contraseña (obligatorios)"
   ]
  },
  {
   "cell_type": "raw",
   "metadata": {
    "collapsed": true
   },
   "source": [
    "7. Formato de aceptación de los terḿinos y condiciones y \"he leído política de privacidad\"\n",
    "o equivalente."
   ]
  },
  {
   "cell_type": "raw",
   "metadata": {
    "collapsed": true
   },
   "source": [
    "8. Aceptación de lo anterior."
   ]
  },
  {
   "cell_type": "raw",
   "metadata": {
    "collapsed": true
   },
   "source": [
    "9. Validación de usuario y contraseña y creación del espacio \" Mi Gestalt\"."
   ]
  },
  {
   "cell_type": "raw",
   "metadata": {
    "collapsed": true
   },
   "source": [
    "12. Opción para registrar los datos mínimos de \" Usuario Registrado Profesional\"."
   ]
  },
  {
   "cell_type": "raw",
   "metadata": {
    "collapsed": true
   },
   "source": [
    "16. Ventana para llenar en Español: NAME(TEXTO); FAMILIY_NAME(TEXTO); AGE(INT);\n",
    "AREA_OF_EXPERIENCE (SELECCIONABLE POR SCROLL Y EN TEXTO\n",
    "LIBRE UNA OPCION AL FINAL); (hasta 10 atributos) --- esto es importante (crear los campos)--"
   ]
  },
  {
   "cell_type": "raw",
   "metadata": {
    "collapsed": true
   },
   "source": [
    "22. Ventana de pregunta de qué datos del usuario pueden ser autorizados para\n",
    "promoción (PUBLIC-I) (datos seleccionables)."
   ]
  },
  {
   "cell_type": "raw",
   "metadata": {
    "collapsed": true
   },
   "source": [
    "23. Opción de aceptación del usuario en que acepta los términos y condiciones de uso \n",
    "del sistema y autoriza la publicación anónima de sus datos. -- como botón submit--"
   ]
  },
  {
   "cell_type": "raw",
   "metadata": {
    "collapsed": true
   },
   "source": [
    "26. Ventana \" Mi Gestalt\" -comentar y acordar--"
   ]
  },
  {
   "cell_type": "raw",
   "metadata": {
    "collapsed": true
   },
   "source": [
    "28. Mensaje y opción (submit) para adicionar más datos de su persona."
   ]
  },
  {
   "cell_type": "raw",
   "metadata": {},
   "source": [
    "FLUJO ALTERNATIVO 2 +++++++++++++++++++++++++++++++++++++++++++++++++++++++++++++"
   ]
  },
  {
   "cell_type": "raw",
   "metadata": {},
   "source": [
    "2. (Tres opciones) El sistema presenta la opción de llenado de datos adicionales por formatos pre-establecidos y la opción de llenado de datos adicionales por ingreso de su CV\n",
    "(currículum vitae) en formato libre de texto, y la opciòn de llenado de datos con su\n",
    "perfil de LinkedIn (ver caso de uso REGISTER-I-LinkedIn)."
   ]
  },
  {
   "cell_type": "raw",
   "metadata": {},
   "source": [
    "5. Ventana o pantalla de inserción de datos personales adicionales (hasta 10 campos o atributos): SUB_AREA_OF_EXPERIENCE(SELECCIONABLE POR SCROLL Y EN TEXTO\n",
    "LIBRE UNA OPCION AL FINAL); YEARS_OF_EXPERIENCE(REAL),\n",
    "EARNINGS_PER_MONTH(REAL -INGRESOS MENSUALES); ZIP(INT, FIJO\n",
    "SELECCIONABLE DE MEXICO, Y EN TEXTO LIBRE UNA OPCION AL FINAL);\n",
    "PROFESSIONAL_SCHOOL(TEXTO LIBRE); DESIRED_SALARY( REAL\n",
    "-INGRESOS MENSUALES DESEADOS);\n",
    "CERTIFICATIONS(CUENTA_CON_CERTIFICACIONES?, BINARIO SI / NO);\n",
    "CURP(TEXTO Y NUMEROS MEZCLADOS); ++++++++(hasta 10 campos o atributos)+++++++"
   ]
  },
  {
   "cell_type": "raw",
   "metadata": {},
   "source": [
    "7, 8 y 9 Ventanas de presentación, modificación y aceptación de los datos ingresados."
   ]
  },
  {
   "cell_type": "raw",
   "metadata": {},
   "source": [
    "10. El sistema presenta formato de aceptación de los términos y condiciones de uso\n",
    "del sistema y de autorización de la publicación y promoción anónima de sus datos."
   ]
  },
  {
   "cell_type": "raw",
   "metadata": {},
   "source": [
    "11. El usuario acepta los términos y condiciones de uso del sistema y autoriza la\n",
    "publicación anónima de sus datos."
   ]
  },
  {
   "cell_type": "raw",
   "metadata": {},
   "source": [
    "12. El sistema pregunta qué datos del usuario pueden ser autorizados para\n",
    "promoción (PUBLIC-I), los identifica y guarda."
   ]
  },
  {
   "cell_type": "raw",
   "metadata": {},
   "source": [
    "14. El sistema regenera el espacio “Mi Gestalt” y se lo presenta al usuario en pantalla\n",
    "con sus diversas opciones."
   ]
  },
  {
   "cell_type": "raw",
   "metadata": {},
   "source": [
    "16. El usuario selecciona la opción de llenado de datos adicionales por ingreso de\n",
    "su CV (currículum vitae) en formato libre de texto."
   ]
  },
  {
   "cell_type": "raw",
   "metadata": {},
   "source": [
    "17. El usuario llena el campo de texto con una copia de su CV en txt ( formato simple\n",
    "de texto) +++ acordado o en Word o en odt (no en pdf)+++"
   ]
  },
  {
   "cell_type": "raw",
   "metadata": {},
   "source": [
    "18. El usuario acepta el texto insertado. +++ botón de aceptación ++++"
   ]
  },
  {
   "cell_type": "raw",
   "metadata": {},
   "source": [
    "19. El sistema presenta formato de aceptación de los términos y condiciones de uso\n",
    "del sistema y de autorización de la publicación y promoción anónima de sus datos."
   ]
  },
  {
   "cell_type": "raw",
   "metadata": {},
   "source": [
    "20. El usuario acepta los términos y condiciones de uso del sistema y autoriza la\n",
    "publicación anónima de sus datos."
   ]
  },
  {
   "cell_type": "raw",
   "metadata": {},
   "source": [
    "22. El sistema regenera el espacio “Mi Gestalt” y se lo presenta al usuario en pantalla\n",
    "con sus diversas opciones."
   ]
  }
 ],
 "metadata": {
  "kernelspec": {
   "display_name": "Python 3",
   "language": "python",
   "name": "python3"
  },
  "language_info": {
   "codemirror_mode": {
    "name": "ipython",
    "version": 3
   },
   "file_extension": ".py",
   "mimetype": "text/x-python",
   "name": "python",
   "nbconvert_exporter": "python",
   "pygments_lexer": "ipython3",
   "version": "3.5.2"
  }
 },
 "nbformat": 4,
 "nbformat_minor": 0
}
